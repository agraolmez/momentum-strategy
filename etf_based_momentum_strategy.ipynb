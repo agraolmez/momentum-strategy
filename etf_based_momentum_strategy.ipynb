{
 "cells": [
  {
   "cell_type": "code",
   "execution_count": null,
   "id": "1501d349",
   "metadata": {},
   "outputs": [],
   "source": [
    "\"\"\"\n",
    "Created on Wed Jul  9 12:53:17 2025\n",
    "\n",
    "@author: agraemirolmez\n",
    "\"\"\""
   ]
  },
  {
   "cell_type": "code",
   "execution_count": null,
   "id": "5f468b72",
   "metadata": {},
   "outputs": [],
   "source": [
    "import yfinance as yf \n",
    "import pandas as pd \n",
    "import numpy as np\n",
    "import matplotlib.pyplot as plt\n",
    "import statsmodels.api as sm"
   ]
  },
  {
   "cell_type": "code",
   "execution_count": null,
   "id": "72d721c7",
   "metadata": {},
   "outputs": [],
   "source": [
    "etfs = [\"XLF\", \"XLK\", \"XLY\", \"XLP\", \"XLE\", \"XLI\", \"XLV\", \"XLU\", \"XLRE\", \"XLB\", \"XLC\"]\n",
    "start_date = \"2019-01-01\""
   ]
  },
  {
   "cell_type": "code",
   "execution_count": null,
   "id": "9327ac99",
   "metadata": {},
   "outputs": [],
   "source": [
    "price_data = {}\n",
    "all_dates = pd.DatetimeIndex([])"
   ]
  },
  {
   "cell_type": "code",
   "execution_count": null,
   "id": "a1d67071",
   "metadata": {},
   "outputs": [],
   "source": [
    "for etf in etfs: \n",
    "    print(f\"Downloading data for {etf}...\")\n",
    "    df = yf.download(etf, start=start_date, auto_adjust=True, progress=False)\n",
    "    if not df.empty:\n",
    "        price_data[etf] = df[('Close', etf)]\n",
    "        all_dates = all_dates.union(df.index)"
   ]
  },
  {
   "cell_type": "code",
   "execution_count": null,
   "id": "214c8dde",
   "metadata": {},
   "outputs": [],
   "source": [
    "for etf in price_data:\n",
    "    price_data[etf] = price_data[etf].reindex(all_dates)"
   ]
  },
  {
   "cell_type": "code",
   "execution_count": null,
   "id": "aa05108c",
   "metadata": {},
   "outputs": [],
   "source": [
    "price_df = pd.DataFrame(price_data)"
   ]
  },
  {
   "cell_type": "code",
   "execution_count": null,
   "id": "42b31a79",
   "metadata": {},
   "outputs": [],
   "source": [
    "monthly_prices = price_df.resample('M').last()\n",
    "monthly_returns = monthly_prices.pct_change().dropna()"
   ]
  },
  {
   "cell_type": "code",
   "execution_count": null,
   "id": "1f8b45b5",
   "metadata": {},
   "outputs": [],
   "source": [
    "lookback_months = 3 \n",
    "top_n = 3 "
   ]
  },
  {
   "cell_type": "code",
   "execution_count": null,
   "id": "0c863460",
   "metadata": {},
   "outputs": [],
   "source": [
    "momentum_portfolio = []\n",
    "momentum_dates = []"
   ]
  },
  {
   "cell_type": "code",
   "execution_count": null,
   "id": "29dc091a",
   "metadata": {},
   "outputs": [],
   "source": [
    "for i in range(lookback_months, len(monthly_returns) - 1):\n",
    "    next_date = monthly_returns.index[i + 1]\n",
    "    past_returns = monthly_returns.iloc[i - lookback_months:i]\n",
    "    cumulative_returns = (1 + past_returns).prod() - 1 \n",
    "    valid_returns = cumulative_returns.dropna()\n",
    "    top_etfs = valid_returns.sort_values(ascending=False).head(top_n).index \n",
    "    next_month_returns = monthly_returns.loc[next_date, top_etfs]\n",
    "    portfolio_return = next_month_returns.mean()\n",
    "    momentum_portfolio.append(portfolio_return)\n",
    "    momentum_dates.append(next_date)"
   ]
  },
  {
   "cell_type": "code",
   "execution_count": null,
   "id": "33013b27",
   "metadata": {},
   "outputs": [],
   "source": [
    "spy = yf.download('SPY', start=start_date, auto_adjust=True, progress=False)\n",
    "spy_returns = spy['Close'].resample('M').last().pct_change().dropna()\n",
    "spy_aligned = spy_returns.loc[momentum_dates]"
   ]
  },
  {
   "cell_type": "code",
   "execution_count": null,
   "id": "67b5f2e6",
   "metadata": {},
   "outputs": [],
   "source": [
    "rf = yf.download('^IRX', start=start_date, auto_adjust=True, progress=False)\n",
    "rf_monthly = rf['Close'].resample('M').last().dropna()\n",
    "rf_monthly = rf_monthly.loc[momentum_dates] / 100  \n",
    "rf_monthly = (1 + rf_monthly) ** (1/12) - 1  "
   ]
  },
  {
   "cell_type": "code",
   "execution_count": null,
   "id": "36d7cf2d",
   "metadata": {},
   "outputs": [],
   "source": [
    "performance_df = pd.DataFrame({\n",
    "    'Momentum': momentum_portfolio,\n",
    "    'SPY': spy_aligned.squeeze(),\n",
    "    'RiskFree': rf_monthly.squeeze()\n",
    "}, index=momentum_dates)"
   ]
  },
  {
   "cell_type": "code",
   "execution_count": null,
   "id": "100ffeca",
   "metadata": {},
   "outputs": [],
   "source": [
    "excess_returns = performance_df[['Momentum', 'SPY']].sub(performance_df['RiskFree'], axis=0)"
   ]
  },
  {
   "cell_type": "code",
   "execution_count": null,
   "id": "01bef0ee",
   "metadata": {},
   "outputs": [],
   "source": [
    "cumulative_returns = (1 + performance_df[['Momentum', 'SPY']]).cumprod()\n",
    "annualized_return = (1 + performance_df[['Momentum', 'SPY']].mean()) ** 12 - 1\n",
    "annualized_volatility = performance_df[['Momentum', 'SPY']].std() * np.sqrt(12)\n",
    "sharpe_ratio = (excess_returns.mean() * 12) / (performance_df[['Momentum', 'SPY']].std() * np.sqrt(12))\n",
    "max_drawdown = (cumulative_returns / cumulative_returns.cummax() - 1).min()"
   ]
  },
  {
   "cell_type": "code",
   "execution_count": null,
   "id": "dc12118c",
   "metadata": {},
   "outputs": [],
   "source": [
    "X = sm.add_constant(performance_df['SPY'])\n",
    "model = sm.OLS(performance_df['Momentum'], X).fit()\n",
    "alpha = model.params['const']\n",
    "beta = model.params['SPY']"
   ]
  },
  {
   "cell_type": "code",
   "execution_count": null,
   "id": "e1763985",
   "metadata": {},
   "outputs": [],
   "source": [
    "print(\"Annualized Return:\\n\", annualized_return)\n",
    "print(\"\\n Annualized Volatility:\\n\", annualized_volatility)\n",
    "print(\"\\n Sharpe Ratio (with 3M T-Bill):\\n\", sharpe_ratio)\n",
    "print(\"\\n Max Drawdown:\\n\", max_drawdown)\n",
    "print(f\"\\n Alpha: {alpha:.4f}\")\n",
    "print(f\" Beta: {beta:.4f}\")"
   ]
  },
  {
   "cell_type": "code",
   "execution_count": null,
   "id": "6cb6d1bd",
   "metadata": {},
   "outputs": [],
   "source": [
    "plt.figure(figsize=(10, 6))\n",
    "plt.plot(cumulative_returns.index, cumulative_returns['Momentum'], label='Momentum Strategy')\n",
    "plt.plot(cumulative_returns.index, cumulative_returns['SPY'], label='SPY')\n",
    "plt.title('Cumulative Returns: Momentum vs SPY')\n",
    "plt.xlabel('Date')\n",
    "plt.ylabel('Cumulative Return')\n",
    "plt.legend()\n",
    "plt.grid(True)\n",
    "plt.tight_layout()\n",
    "plt.show()"
   ]
  },
  {
   "cell_type": "code",
   "execution_count": null,
   "id": "70973125",
   "metadata": {},
   "outputs": [],
   "source": [
    "metrics_df = pd.DataFrame({\n",
    "    'Annualized Return': annualized_return,\n",
    "    'Annualized Volatility': annualized_volatility,\n",
    "    'Sharpe Ratio': sharpe_ratio\n",
    "})\n",
    "metrics_df.plot(kind='bar', figsize=(10, 6))\n",
    "plt.title(\"Performance Metrics: Momentum vs SPY\")\n",
    "plt.ylabel(\"Value\")\n",
    "plt.xticks(rotation=0)\n",
    "plt.grid(True)\n",
    "plt.tight_layout()\n",
    "plt.show()"
   ]
  }
 ],
 "metadata": {
  "jupytext": {
   "cell_metadata_filter": "-all",
   "encoding": "# -*- coding: utf-8 -*-",
   "executable": "/usr/bin/env python3",
   "main_language": "python",
   "notebook_metadata_filter": "-all"
  }
 },
 "nbformat": 4,
 "nbformat_minor": 5
}
